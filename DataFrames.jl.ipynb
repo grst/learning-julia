{
 "cells": [
  {
   "cell_type": "code",
   "execution_count": 2,
   "metadata": {},
   "outputs": [
    {
     "name": "stderr",
     "output_type": "stream",
     "text": [
      "WARNING: Method definition describe(AbstractArray) in module StatsBase at /home/sturm/.julia/v0.5/StatsBase/src/scalarstats.jl:573 overwritten in module DataFrames at /home/sturm/.julia/v0.5/DataFrames/src/abstractdataframe/abstractdataframe.jl:407.\n"
     ]
    }
   ],
   "source": [
    "using DataFrames"
   ]
  },
  {
   "cell_type": "code",
   "execution_count": 3,
   "metadata": {},
   "outputs": [
    {
     "data": {
      "text/plain": [
       "3-element Array{Tuple{String,Int64},1}:\n",
       " (\"A\",1)\n",
       " (\"B\",2)\n",
       " (\"C\",3)"
      ]
     },
     "execution_count": 3,
     "metadata": {},
     "output_type": "execute_result"
    }
   ],
   "source": [
    "records = [(\"A\", 1), (\"B\", 2), (\"C\", 3)]"
   ]
  },
  {
   "cell_type": "code",
   "execution_count": 9,
   "metadata": {},
   "outputs": [
    {
     "data": {
      "text/html": [
       "<table class=\"data-frame\"><thead><tr><th></th><th>y1</th><th>y2</th></tr></thead><tbody><tr><th>1</th><td>A</td><td>1</td></tr><tr><th>2</th><td>B</td><td>2</td></tr><tr><th>3</th><td>C</td><td>3</td></tr></tbody></table>"
      ],
      "text/plain": [
       "3×2 DataFrames.DataFrame\n",
       "│ Row │ y1  │ y2 │\n",
       "├─────┼─────┼────┤\n",
       "│ 1   │ \"A\" │ 1  │\n",
       "│ 2   │ \"B\" │ 2  │\n",
       "│ 3   │ \"C\" │ 3  │"
      ]
     },
     "execution_count": 9,
     "metadata": {},
     "output_type": "execute_result"
    }
   ],
   "source": [
    "DataFrame([[r[i] for r in records] for i=1:length(records[1])], [Symbol(\"y$(i)\") for i=1:length(records[1])])"
   ]
  },
  {
   "cell_type": "code",
   "execution_count": null,
   "metadata": {
    "collapsed": true
   },
   "outputs": [],
   "source": [
    "DataFrame(reco)"
   ]
  },
  {
   "cell_type": "code",
   "execution_count": 10,
   "metadata": {},
   "outputs": [
    {
     "data": {
      "text/plain": [
       "Dict{String,Any} with 2 entries:\n",
       "  \"col2\" => 1:3\n",
       "  \"col1\" => String[\"A\",\"B\",\"C\"]"
      ]
     },
     "execution_count": 10,
     "metadata": {},
     "output_type": "execute_result"
    }
   ],
   "source": [
    "data = Dict(\"col1\" => [\"A\", \"B\", \"C\"], \"col2\" => 1:3)"
   ]
  },
  {
   "cell_type": "code",
   "execution_count": 22,
   "metadata": {},
   "outputs": [
    {
     "data": {
      "text/html": [
       "<table class=\"data-frame\"><thead><tr><th></th><th>col1</th><th>col2</th></tr></thead><tbody><tr><th>1</th><td>A</td><td>1</td></tr><tr><th>2</th><td>B</td><td>2</td></tr><tr><th>3</th><td>C</td><td>3</td></tr></tbody></table>"
      ],
      "text/plain": [
       "3×2 DataFrames.DataFrame\n",
       "│ Row │ col1 │ col2 │\n",
       "├─────┼──────┼──────┤\n",
       "│ 1   │ \"A\"  │ 1    │\n",
       "│ 2   │ \"B\"  │ 2    │\n",
       "│ 3   │ \"C\"  │ 3    │"
      ]
     },
     "execution_count": 22,
     "metadata": {},
     "output_type": "execute_result"
    }
   ],
   "source": [
    "df1 = DataFrame(data)\n",
    "df2 = DataFrame(data)"
   ]
  },
  {
   "cell_type": "code",
   "execution_count": 19,
   "metadata": {},
   "outputs": [
    {
     "data": {
      "text/plain": [
       "2-element Array{Tuple{Any,Any,Any},1}:\n",
       " (\"A\",\"B\",\"C\")\n",
       " (1,2,3)      "
      ]
     },
     "execution_count": 19,
     "metadata": {},
     "output_type": "execute_result"
    }
   ],
   "source": [
    "collect(zip(records...))"
   ]
  },
  {
   "cell_type": "code",
   "execution_count": 21,
   "metadata": {},
   "outputs": [
    {
     "ename": "LoadError",
     "evalue": "MethodError: no method matching DataFrames.DataFrame(::Zip{Tuple{String,Int64},Base.Zip2{Tuple{String,Int64},Tuple{String,Int64}}}, ::Array{Symbol,1})\u001b[0m\nClosest candidates are:\n  DataFrames.DataFrame(\u001b[1m\u001b[31m::Array{DataType,1}\u001b[0m, ::Array{Symbol,1}, \u001b[1m\u001b[31m::Array{Bool,1}\u001b[0m, \u001b[1m\u001b[31m::Integer\u001b[0m) at /home/sturm/.julia/v0.5/DataFrames/src/dataframe/dataframe.jl:132\n  DataFrames.DataFrame{D<:Associative{K,V}}(\u001b[1m\u001b[31m::Array{D<:Associative,1}\u001b[0m, ::Array{T,1}) at /home/sturm/.julia/v0.5/DataFrames/src/dataframe/dataframe.jl:167\n  DataFrames.DataFrame(\u001b[1m\u001b[31m::Array{T,1}\u001b[0m, ::Array{T,1}) at /home/sturm/.julia/v0.5/DataFrames/src/dataframe/dataframe.jl:107\n  ...\u001b[0m",
     "output_type": "error",
     "traceback": [
      "MethodError: no method matching DataFrames.DataFrame(::Zip{Tuple{String,Int64},Base.Zip2{Tuple{String,Int64},Tuple{String,Int64}}}, ::Array{Symbol,1})\u001b[0m\nClosest candidates are:\n  DataFrames.DataFrame(\u001b[1m\u001b[31m::Array{DataType,1}\u001b[0m, ::Array{Symbol,1}, \u001b[1m\u001b[31m::Array{Bool,1}\u001b[0m, \u001b[1m\u001b[31m::Integer\u001b[0m) at /home/sturm/.julia/v0.5/DataFrames/src/dataframe/dataframe.jl:132\n  DataFrames.DataFrame{D<:Associative{K,V}}(\u001b[1m\u001b[31m::Array{D<:Associative,1}\u001b[0m, ::Array{T,1}) at /home/sturm/.julia/v0.5/DataFrames/src/dataframe/dataframe.jl:167\n  DataFrames.DataFrame(\u001b[1m\u001b[31m::Array{T,1}\u001b[0m, ::Array{T,1}) at /home/sturm/.julia/v0.5/DataFrames/src/dataframe/dataframe.jl:107\n  ...\u001b[0m",
      ""
     ]
    }
   ],
   "source": [
    "DataFrame(zip(records...), [Symbol(\"y$(i)\") for i=1:2])"
   ]
  },
  {
   "cell_type": "code",
   "execution_count": 23,
   "metadata": {},
   "outputs": [
    {
     "data": {
      "text/html": [
       "<table class=\"data-frame\"><thead><tr><th></th><th>col1</th><th>col2</th></tr></thead><tbody><tr><th>1</th><td>A</td><td>1</td></tr><tr><th>2</th><td>B</td><td>2</td></tr><tr><th>3</th><td>C</td><td>3</td></tr><tr><th>4</th><td>A</td><td>1</td></tr><tr><th>5</th><td>B</td><td>2</td></tr><tr><th>6</th><td>C</td><td>3</td></tr></tbody></table>"
      ],
      "text/plain": [
       "6×2 DataFrames.DataFrame\n",
       "│ Row │ col1 │ col2 │\n",
       "├─────┼──────┼──────┤\n",
       "│ 1   │ \"A\"  │ 1    │\n",
       "│ 2   │ \"B\"  │ 2    │\n",
       "│ 3   │ \"C\"  │ 3    │\n",
       "│ 4   │ \"A\"  │ 1    │\n",
       "│ 5   │ \"B\"  │ 2    │\n",
       "│ 6   │ \"C\"  │ 3    │"
      ]
     },
     "execution_count": 23,
     "metadata": {},
     "output_type": "execute_result"
    }
   ],
   "source": [
    "vcat(df1, df2)"
   ]
  },
  {
   "cell_type": "code",
   "execution_count": 24,
   "metadata": {},
   "outputs": [
    {
     "data": {
      "text/html": [
       "<table class=\"data-frame\"><thead><tr><th></th></tr></thead><tbody></tbody></table>"
      ],
      "text/plain": [
       "0×0 DataFrames.DataFrame\n"
      ]
     },
     "execution_count": 24,
     "metadata": {},
     "output_type": "execute_result"
    }
   ],
   "source": [
    "df0 = DataFrame()"
   ]
  },
  {
   "cell_type": "code",
   "execution_count": 25,
   "metadata": {},
   "outputs": [
    {
     "data": {
      "text/html": [
       "<table class=\"data-frame\"><thead><tr><th></th><th>col1</th><th>col2</th></tr></thead><tbody><tr><th>1</th><td>A</td><td>1</td></tr><tr><th>2</th><td>B</td><td>2</td></tr><tr><th>3</th><td>C</td><td>3</td></tr></tbody></table>"
      ],
      "text/plain": [
       "3×2 DataFrames.DataFrame\n",
       "│ Row │ col1 │ col2 │\n",
       "├─────┼──────┼──────┤\n",
       "│ 1   │ \"A\"  │ 1    │\n",
       "│ 2   │ \"B\"  │ 2    │\n",
       "│ 3   │ \"C\"  │ 3    │"
      ]
     },
     "execution_count": 25,
     "metadata": {},
     "output_type": "execute_result"
    }
   ],
   "source": [
    "vcat(df0, df1)"
   ]
  },
  {
   "cell_type": "code",
   "execution_count": 26,
   "metadata": {},
   "outputs": [
    {
     "ename": "LoadError",
     "evalue": "MethodError: Cannot `convert` an object of type Zip{Tuple{String,Int64},Base.Zip2{Tuple{String,Int64},Tuple{String,Int64}}} to an object of type DataFrames.DataFrame\nThis may have arisen from a call to the constructor DataFrames.DataFrame(...),\nsince type constructors fall back to convert methods.",
     "output_type": "error",
     "traceback": [
      "MethodError: Cannot `convert` an object of type Zip{Tuple{String,Int64},Base.Zip2{Tuple{String,Int64},Tuple{String,Int64}}} to an object of type DataFrames.DataFrame\nThis may have arisen from a call to the constructor DataFrames.DataFrame(...),\nsince type constructors fall back to convert methods.",
      "",
      " in DataFrames.DataFrame(::Zip{Tuple{String,Int64},Base.Zip2{Tuple{String,Int64},Tuple{String,Int64}}}) at ./sysimg.jl:53"
     ]
    }
   ],
   "source": [
    "DataFrame(zip(records...))"
   ]
  },
  {
   "cell_type": "code",
   "execution_count": 28,
   "metadata": {},
   "outputs": [
    {
     "data": {
      "text/plain": [
       "2-element Array{Tuple{Any,Any,Any},1}:\n",
       " (\"A\",\"B\",\"C\")\n",
       " (1,2,3)      "
      ]
     },
     "execution_count": 28,
     "metadata": {},
     "output_type": "execute_result"
    }
   ],
   "source": [
    "collect(zip(records...))"
   ]
  },
  {
   "cell_type": "markdown",
   "metadata": {},
   "source": [
    "## selecting"
   ]
  },
  {
   "cell_type": "code",
   "execution_count": 29,
   "metadata": {},
   "outputs": [
    {
     "data": {
      "text/plain": [
       "2-element Array{String,1}:\n",
       " \"a\"\n",
       " \"b\""
      ]
     },
     "execution_count": 29,
     "metadata": {},
     "output_type": "execute_result"
    }
   ],
   "source": [
    "giant_list = [\"a\", \"c\", \"j\"]\n",
    "good_letters = [\"a\", \"b\"]"
   ]
  },
  {
   "cell_type": "code",
   "execution_count": 31,
   "metadata": {},
   "outputs": [
    {
     "data": {
      "text/plain": [
       "1-element Array{String,1}:\n",
       " \"a\""
      ]
     },
     "execution_count": 31,
     "metadata": {},
     "output_type": "execute_result"
    }
   ],
   "source": [
    "giant_list[findin(giant_list, good_letters)]"
   ]
  },
  {
   "cell_type": "code",
   "execution_count": 32,
   "metadata": {},
   "outputs": [
    {
     "data": {
      "text/plain": [
       "2-element Array{String,1}:\n",
       " \"1\"\n",
       " \"2\""
      ]
     },
     "execution_count": 32,
     "metadata": {},
     "output_type": "execute_result"
    }
   ],
   "source": [
    "unique([\"1\", \"1\", \"2\"])"
   ]
  },
  {
   "cell_type": "code",
   "execution_count": 38,
   "metadata": {},
   "outputs": [
    {
     "ename": "LoadError",
     "evalue": "combinations(1:3,) has been moved to the package Combinatorics.jl.\nRun Pkg.add(\"Combinatorics\") to install Combinatorics on Julia v0.5-",
     "output_type": "error",
     "traceback": [
      "combinations(1:3,) has been moved to the package Combinatorics.jl.\nRun Pkg.add(\"Combinatorics\") to install Combinatorics on Julia v0.5-",
      "",
      " in combinations(::UnitRange{Int64}, ::Vararg{UnitRange{Int64},N}) at ./deprecated.jl:201"
     ]
    }
   ],
   "source": [
    "collect(Base.combinations(1:3))"
   ]
  },
  {
   "cell_type": "code",
   "execution_count": null,
   "metadata": {
    "collapsed": true
   },
   "outputs": [],
   "source": []
  }
 ],
 "metadata": {
  "kernelspec": {
   "display_name": "Julia 0.5.2",
   "language": "julia",
   "name": "julia-0.5"
  },
  "language_info": {
   "file_extension": ".jl",
   "mimetype": "application/julia",
   "name": "julia",
   "version": "0.5.2"
  }
 },
 "nbformat": 4,
 "nbformat_minor": 2
}
