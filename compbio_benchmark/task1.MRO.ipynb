{
 "cells": [
  {
   "cell_type": "code",
   "execution_count": 1,
   "metadata": {},
   "outputs": [
    {
     "name": "stderr",
     "output_type": "stream",
     "text": [
      "\n",
      "Attaching package: ‘purrr’\n",
      "\n",
      "The following object is masked from ‘package:magrittr’:\n",
      "\n",
      "    set_names\n",
      "\n",
      "The following object is masked from ‘package:data.table’:\n",
      "\n",
      "    transpose\n",
      "\n"
     ]
    }
   ],
   "source": [
    "library(readr)\n",
    "library(data.table)\n",
    "library(ggplot2)\n",
    "library(stringr)\n",
    "library(magrittr)\n",
    "library(purrr)"
   ]
  },
  {
   "cell_type": "code",
   "execution_count": 2,
   "metadata": {
    "collapsed": true
   },
   "outputs": [],
   "source": [
    "sources = list(\n",
    "    \"OribitrapVelos\" = \"data/OrbitrapVelos_msms.txt\",\n",
    "    \"QExactive\" = \"data/QExactive_msms.txt\",\n",
    "    \"TTOF6600\" = \"data/TTOF6600_msms.txt\"\n",
    ")"
   ]
  },
  {
   "cell_type": "markdown",
   "metadata": {},
   "source": [
    "### loading data"
   ]
  },
  {
   "cell_type": "code",
   "execution_count": 3,
   "metadata": {},
   "outputs": [
    {
     "name": "stderr",
     "output_type": "stream",
     "text": [
      "Parsed with column specification:\n",
      "cols(\n",
      "  .default = col_integer(),\n",
      "  `Raw file` = col_character(),\n",
      "  Sequence = col_character(),\n",
      "  Modifications = col_character(),\n",
      "  `Modified sequence` = col_character(),\n",
      "  `Oxidation (M) Probabilities` = col_character(),\n",
      "  `Oxidation (M) Score Diffs` = col_character(),\n",
      "  Proteins = col_character(),\n",
      "  Fragmentation = col_character(),\n",
      "  `Mass analyzer` = col_character(),\n",
      "  Type = col_character(),\n",
      "  `m/z` = col_double(),\n",
      "  Mass = col_double(),\n",
      "  `Mass Error [ppm]` = col_double(),\n",
      "  `Simple Mass Error [ppm]` = col_double(),\n",
      "  `Retention time` = col_double(),\n",
      "  PEP = col_double(),\n",
      "  Score = col_double(),\n",
      "  `Delta score` = col_double(),\n",
      "  `Score diff` = col_double(),\n",
      "  `Localization prob` = col_double()\n",
      "  # ... with 15 more columns\n",
      ")\n",
      "See spec(...) for full column specifications.\n",
      "Warning message:\n",
      "“2748 parsing failures.\n",
      " row                    col               expected actual\n",
      "2987 Oxidation (M) site IDs no trailing characters   ;763\n",
      "2988 Oxidation (M) site IDs no trailing characters   ;763\n",
      "2989 Oxidation (M) site IDs no trailing characters   ;763\n",
      "2991 Oxidation (M) site IDs no trailing characters   ;763\n",
      "2992 Oxidation (M) site IDs no trailing characters   ;763\n",
      ".... ...................... ...................... ......\n",
      "See problems(...) for more details.\n",
      "”Parsed with column specification:\n",
      "cols(\n",
      "  .default = col_integer(),\n",
      "  `Raw file` = col_character(),\n",
      "  Sequence = col_character(),\n",
      "  Modifications = col_character(),\n",
      "  `Modified sequence` = col_character(),\n",
      "  `Oxidation (M) Probabilities` = col_character(),\n",
      "  `Oxidation (M) Score Diffs` = col_character(),\n",
      "  Proteins = col_character(),\n",
      "  `Gene Names` = col_character(),\n",
      "  `Protein Names` = col_character(),\n",
      "  Fragmentation = col_character(),\n",
      "  `Mass analyzer` = col_character(),\n",
      "  Type = col_character(),\n",
      "  `m/z` = col_double(),\n",
      "  Mass = col_double(),\n",
      "  `Mass Error [ppm]` = col_double(),\n",
      "  `Simple Mass Error [ppm]` = col_double(),\n",
      "  `Retention time` = col_double(),\n",
      "  PEP = col_double(),\n",
      "  Score = col_double(),\n",
      "  `Delta score` = col_double()\n",
      "  # ... with 15 more columns\n",
      ")\n",
      "See spec(...) for full column specifications.\n",
      "Warning message:\n",
      "“17030 parsing failures.\n",
      " row               col               expected actual\n",
      "1163 Protein group IDs no trailing characters  ;2944\n",
      "1164 Protein group IDs no trailing characters  ;2944\n",
      "1165 Protein group IDs no trailing characters  ;2944\n",
      "1166 Protein group IDs no trailing characters  ;2944\n",
      "1167 Protein group IDs no trailing characters  ;2944\n",
      ".... ................. ...................... ......\n",
      "See problems(...) for more details.\n",
      "”Parsed with column specification:\n",
      "cols(\n",
      "  .default = col_character(),\n",
      "  `Scan number` = col_integer(),\n",
      "  `Scan index` = col_integer(),\n",
      "  Length = col_integer(),\n",
      "  `Missed cleavages` = col_integer(),\n",
      "  `Acetyl (Protein N-term)` = col_integer(),\n",
      "  `Oxidation (M)` = col_integer(),\n",
      "  Charge = col_integer(),\n",
      "  `Scan event number` = col_integer(),\n",
      "  `Isotope index` = col_integer(),\n",
      "  `m/z` = col_double(),\n",
      "  Mass = col_double(),\n",
      "  `Mass Error [ppm]` = col_double(),\n",
      "  `Simple Mass Error [ppm]` = col_double(),\n",
      "  `Retention time` = col_double(),\n",
      "  PEP = col_double(),\n",
      "  Score = col_double(),\n",
      "  `Delta score` = col_double(),\n",
      "  `Score diff` = col_double(),\n",
      "  `Localization prob` = col_double(),\n",
      "  Combinatorics = col_integer()\n",
      "  # ... with 15 more columns\n",
      ")\n",
      "See spec(...) for full column specifications.\n"
     ]
    }
   ],
   "source": [
    "st = Sys.time()\n",
    "data_list = lapply(names(sources), function(name) {\n",
    "    filename = sources[[name]]\n",
    "    dt = data.table(read_tsv(filename))\n",
    "    dt[,source := name]\n",
    "    return(dt)    \n",
    "})"
   ]
  },
  {
   "cell_type": "code",
   "execution_count": 4,
   "metadata": {},
   "outputs": [
    {
     "data": {
      "text/plain": [
       "Time difference of 1.443526 mins"
      ]
     },
     "metadata": {},
     "output_type": "display_data"
    }
   ],
   "source": [
    "Sys.time() - st"
   ]
  },
  {
   "cell_type": "markdown",
   "metadata": {},
   "source": [
    "### concatenating data"
   ]
  },
  {
   "cell_type": "code",
   "execution_count": 5,
   "metadata": {
    "collapsed": true
   },
   "outputs": [],
   "source": [
    "st = Sys.time()\n",
    "common_columns = Reduce(intersect, lapply(data_list, colnames))"
   ]
  },
  {
   "cell_type": "code",
   "execution_count": 6,
   "metadata": {
    "collapsed": true
   },
   "outputs": [],
   "source": [
    "data_list2 = lapply(data_list, function(tab) {\n",
    "    tab[,..common_columns]\n",
    "})"
   ]
  },
  {
   "cell_type": "code",
   "execution_count": 7,
   "metadata": {
    "collapsed": true
   },
   "outputs": [],
   "source": [
    "data = rbindlist(data_list2)"
   ]
  },
  {
   "cell_type": "code",
   "execution_count": 8,
   "metadata": {},
   "outputs": [
    {
     "data": {
      "text/plain": [
       "Time difference of 6.675349 secs"
      ]
     },
     "metadata": {},
     "output_type": "display_data"
    }
   ],
   "source": [
    "Sys.time() - st"
   ]
  },
  {
   "cell_type": "markdown",
   "metadata": {},
   "source": [
    "### computing seq count"
   ]
  },
  {
   "cell_type": "code",
   "execution_count": 9,
   "metadata": {
    "collapsed": true
   },
   "outputs": [],
   "source": [
    "st = Sys.time()"
   ]
  },
  {
   "cell_type": "code",
   "execution_count": 10,
   "metadata": {},
   "outputs": [
    {
     "data": {},
     "metadata": {},
     "output_type": "display_data"
    }
   ],
   "source": [
    "data[,psm_count := .N, by = list(source, Sequence)]"
   ]
  },
  {
   "cell_type": "code",
   "execution_count": 11,
   "metadata": {
    "collapsed": true
   },
   "outputs": [],
   "source": [
    "seq_count = unique(data[,list(source, Sequence, psm_count)])"
   ]
  },
  {
   "cell_type": "code",
   "execution_count": 12,
   "metadata": {},
   "outputs": [
    {
     "data": {
      "text/plain": [
       "Time difference of 0.2791922 secs"
      ]
     },
     "metadata": {},
     "output_type": "display_data"
    }
   ],
   "source": [
    "Sys.time() - st"
   ]
  },
  {
   "cell_type": "markdown",
   "metadata": {},
   "source": [
    "### 1a) "
   ]
  },
  {
   "cell_type": "code",
   "execution_count": 13,
   "metadata": {
    "collapsed": true
   },
   "outputs": [],
   "source": [
    "st = Sys.time()"
   ]
  },
  {
   "cell_type": "code",
   "execution_count": 14,
   "metadata": {},
   "outputs": [
    {
     "name": "stderr",
     "output_type": "stream",
     "text": [
      "`stat_bin()` using `bins = 30`. Pick better value with `binwidth`.\n"
     ]
    },
    {
     "data": {},
     "metadata": {},
     "output_type": "display_data"
    },
    {
     "data": {
      "image/png": "[encoded data removed]",
      "text/plain": [
       "plot without title"
      ]
     },
     "metadata": {},
     "output_type": "display_data"
    }
   ],
   "source": [
    "ggplot(seq_count, aes(x = psm_count)) + geom_histogram() + facet_wrap(~source)"
   ]
  },
  {
   "cell_type": "code",
   "execution_count": 15,
   "metadata": {},
   "outputs": [
    {
     "data": {
      "text/plain": [
       "Time difference of 3.234904 secs"
      ]
     },
     "metadata": {},
     "output_type": "display_data"
    }
   ],
   "source": [
    "Sys.time() - st"
   ]
  },
  {
   "cell_type": "markdown",
   "metadata": {},
   "source": [
    "## 1b) "
   ]
  },
  {
   "cell_type": "code",
   "execution_count": 16,
   "metadata": {
    "collapsed": true
   },
   "outputs": [],
   "source": [
    "st = Sys.time()"
   ]
  },
  {
   "cell_type": "code",
   "execution_count": 17,
   "metadata": {},
   "outputs": [
    {
     "name": "stderr",
     "output_type": "stream",
     "text": [
      "`stat_bin()` using `bins = 30`. Pick better value with `binwidth`.\n"
     ]
    },
    {
     "data": {},
     "metadata": {},
     "output_type": "display_data"
    },
    {
     "data": {
      "image/png": "[encoded data removed]",
      "text/plain": [
       "plot without title"
      ]
     },
     "metadata": {},
     "output_type": "display_data"
    }
   ],
   "source": [
    "ggplot(data[psm_count > 10,], aes(x = Score)) + geom_histogram() + facet_wrap(~source)"
   ]
  },
  {
   "cell_type": "code",
   "execution_count": 18,
   "metadata": {},
   "outputs": [
    {
     "data": {
      "text/plain": [
       "Time difference of 5.884573 secs"
      ]
     },
     "metadata": {},
     "output_type": "display_data"
    }
   ],
   "source": [
    "Sys.time() - st"
   ]
  },
  {
   "cell_type": "markdown",
   "metadata": {
    "collapsed": true
   },
   "source": [
    "b2"
   ]
  },
  {
   "cell_type": "code",
   "execution_count": 19,
   "metadata": {
    "collapsed": true
   },
   "outputs": [],
   "source": [
    "st = Sys.time()"
   ]
  },
  {
   "cell_type": "code",
   "execution_count": 20,
   "metadata": {},
   "outputs": [
    {
     "data": {},
     "metadata": {},
     "output_type": "display_data"
    },
    {
     "data": {
      "image/png": "[encoded data removed]",
      "text/plain": [
       "plot without title"
      ]
     },
     "metadata": {},
     "output_type": "display_data"
    }
   ],
   "source": [
    "ggplot(data, aes(y = Score, x = Length)) + geom_boxplot(aes(group = Length)) + facet_wrap(~source)"
   ]
  },
  {
   "cell_type": "code",
   "execution_count": 21,
   "metadata": {},
   "outputs": [
    {
     "data": {
      "text/plain": [
       "Time difference of 10.51418 secs"
      ]
     },
     "metadata": {},
     "output_type": "display_data"
    }
   ],
   "source": [
    "Sys.time() - st"
   ]
  },
  {
   "cell_type": "markdown",
   "metadata": {},
   "source": [
    "b3"
   ]
  },
  {
   "cell_type": "code",
   "execution_count": 22,
   "metadata": {
    "collapsed": true
   },
   "outputs": [],
   "source": [
    "st = Sys.time()"
   ]
  },
  {
   "cell_type": "code",
   "execution_count": 23,
   "metadata": {},
   "outputs": [
    {
     "data": {},
     "metadata": {},
     "output_type": "display_data"
    },
    {
     "data": {
      "image/png": "[encoded data removed]",
      "text/plain": [
       "plot without title"
      ]
     },
     "metadata": {},
     "output_type": "display_data"
    }
   ],
   "source": [
    "ggplot(data, aes(y = Score, x = psm_count)) + geom_boxplot(aes(group = psm_count)) + facet_wrap(~source)"
   ]
  },
  {
   "cell_type": "code",
   "execution_count": 24,
   "metadata": {},
   "outputs": [
    {
     "data": {
      "text/plain": [
       "Time difference of 14.41065 secs"
      ]
     },
     "metadata": {},
     "output_type": "display_data"
    }
   ],
   "source": [
    "Sys.time() - st"
   ]
  },
  {
   "cell_type": "markdown",
   "metadata": {},
   "source": [
    "## 1c) "
   ]
  },
  {
   "cell_type": "code",
   "execution_count": 25,
   "metadata": {
    "collapsed": true
   },
   "outputs": [],
   "source": [
    "st = Sys.time()"
   ]
  },
  {
   "cell_type": "code",
   "execution_count": 26,
   "metadata": {
    "collapsed": true
   },
   "outputs": [],
   "source": [
    "sum_intensities = Vectorize(function(intensity) {\n",
    "    str_trim(intensity) %>% str_split(\";\") %>% extract2(1) %>% as.numeric %>% sum\n",
    "})"
   ]
  },
  {
   "cell_type": "code",
   "execution_count": 27,
   "metadata": {
    "collapsed": true
   },
   "outputs": [],
   "source": [
    "data = data[,intensity := sum_intensities(Intensities)]"
   ]
  },
  {
   "cell_type": "code",
   "execution_count": 28,
   "metadata": {},
   "outputs": [
    {
     "data": {
      "text/plain": [
       "Time difference of 11.51801 mins"
      ]
     },
     "metadata": {},
     "output_type": "display_data"
    }
   ],
   "source": [
    "Sys.time() - st"
   ]
  },
  {
   "cell_type": "code",
   "execution_count": 29,
   "metadata": {
    "collapsed": true
   },
   "outputs": [],
   "source": [
    "st = Sys.time()"
   ]
  },
  {
   "cell_type": "code",
   "execution_count": 30,
   "metadata": {},
   "outputs": [
    {
     "data": {},
     "metadata": {},
     "output_type": "display_data"
    },
    {
     "data": {
      "image/png": "[encoded data removed]",
      "text/plain": [
       "plot without title"
      ]
     },
     "metadata": {},
     "output_type": "display_data"
    }
   ],
   "source": [
    "ggplot(data, aes(x = intensity, y = Score)) + geom_point() + facet_wrap(~source)"
   ]
  },
  {
   "cell_type": "code",
   "execution_count": 31,
   "metadata": {},
   "outputs": [
    {
     "data": {
      "text/plain": [
       "Time difference of 37.39126 secs"
      ]
     },
     "metadata": {},
     "output_type": "display_data"
    }
   ],
   "source": [
    "Sys.time() - st"
   ]
  },
  {
   "cell_type": "markdown",
   "metadata": {},
   "source": [
    "## 1d) plot spectra"
   ]
  },
  {
   "cell_type": "code",
   "execution_count": 32,
   "metadata": {
    "collapsed": true
   },
   "outputs": [],
   "source": [
    "st = Sys.time()"
   ]
  },
  {
   "cell_type": "code",
   "execution_count": 33,
   "metadata": {
    "collapsed": true
   },
   "outputs": [],
   "source": [
    "split_numeric = Vectorize(function(str_list) {\n",
    "    str_list %>% str_trim %>% str_split(\";\") %>% extract2(1) %>% as.numeric\n",
    "})"
   ]
  },
  {
   "cell_type": "code",
   "execution_count": 34,
   "metadata": {
    "collapsed": true
   },
   "outputs": [],
   "source": [
    "spectra = names(sources) %>% map(function (source_name) {\n",
    "    tmp_dat = data[source == source_name,list(Intensities, Masses)][1]\n",
    "    tmp_split = data.table(split_numeric(tmp_dat))\n",
    "    tmp_split[,source := source_name]\n",
    "}) %>% rbindlist"
   ]
  },
  {
   "cell_type": "code",
   "execution_count": 35,
   "metadata": {},
   "outputs": [
    {
     "data": {
      "text/plain": [
       "Time difference of 1.062699 secs"
      ]
     },
     "metadata": {},
     "output_type": "display_data"
    }
   ],
   "source": [
    "Sys.time() - st"
   ]
  },
  {
   "cell_type": "code",
   "execution_count": 36,
   "metadata": {
    "collapsed": true
   },
   "outputs": [],
   "source": [
    "st = Sys.time()"
   ]
  },
  {
   "cell_type": "code",
   "execution_count": 37,
   "metadata": {},
   "outputs": [
    {
     "data": {},
     "metadata": {},
     "output_type": "display_data"
    },
    {
     "data": {
      "image/png": "[encoded data removed]",
      "text/plain": [
       "plot without title"
      ]
     },
     "metadata": {},
     "output_type": "display_data"
    }
   ],
   "source": [
    "ggplot(spectra, aes(x = Masses, ymin = 0, ymax = Intensities)) + geom_linerange() + facet_wrap(~source, scales=\"free\")"
   ]
  },
  {
   "cell_type": "code",
   "execution_count": 38,
   "metadata": {},
   "outputs": [
    {
     "data": {
      "text/plain": [
       "Time difference of 0.5375929 secs"
      ]
     },
     "metadata": {},
     "output_type": "display_data"
    }
   ],
   "source": [
    "Sys.time() - st"
   ]
  },
  {
   "cell_type": "markdown",
   "metadata": {},
   "source": [
    "## 1e) \n",
    "\n",
    "search all b1-ions"
   ]
  },
  {
   "cell_type": "code",
   "execution_count": 39,
   "metadata": {
    "collapsed": true
   },
   "outputs": [],
   "source": [
    "st = Sys.time()"
   ]
  },
  {
   "cell_type": "code",
   "execution_count": 40,
   "metadata": {
    "collapsed": true
   },
   "outputs": [],
   "source": [
    "intensities = data[,Intensities] %>% map(split_numeric)"
   ]
  },
  {
   "cell_type": "code",
   "execution_count": 41,
   "metadata": {
    "collapsed": true
   },
   "outputs": [],
   "source": [
    "ions = data[,Matches] %>% map(function(x) {\n",
    "    x %>% str_trim %>% str_split(\";\") %>% extract2(1) == \"b2\"\n",
    "})"
   ]
  },
  {
   "cell_type": "code",
   "execution_count": 42,
   "metadata": {
    "collapsed": true
   },
   "outputs": [],
   "source": [
    "my_intensities = data.table(intensity = unlist(intensities)[unlist(ions)])"
   ]
  },
  {
   "cell_type": "code",
   "execution_count": 43,
   "metadata": {},
   "outputs": [
    {
     "data": {
      "text/plain": [
       "Time difference of 20.78763 mins"
      ]
     },
     "metadata": {},
     "output_type": "display_data"
    }
   ],
   "source": [
    "Sys.time() - st"
   ]
  },
  {
   "cell_type": "code",
   "execution_count": 44,
   "metadata": {
    "collapsed": true
   },
   "outputs": [],
   "source": [
    "st = Sys.time()"
   ]
  },
  {
   "cell_type": "code",
   "execution_count": 45,
   "metadata": {},
   "outputs": [
    {
     "name": "stderr",
     "output_type": "stream",
     "text": [
      "`stat_bin()` using `bins = 30`. Pick better value with `binwidth`.\n"
     ]
    },
    {
     "data": {},
     "metadata": {},
     "output_type": "display_data"
    },
    {
     "data": {
      "image/png": "[encoded data removed]",
      "text/plain": [
       "plot without title"
      ]
     },
     "metadata": {},
     "output_type": "display_data"
    }
   ],
   "source": [
    "ggplot(my_intensities[intensity < 2000,], aes(x=intensity)) + geom_histogram()"
   ]
  },
  {
   "cell_type": "code",
   "execution_count": 46,
   "metadata": {},
   "outputs": [
    {
     "data": {
      "text/plain": [
       "Time difference of 0.6417484 secs"
      ]
     },
     "metadata": {},
     "output_type": "display_data"
    }
   ],
   "source": [
    "Sys.time() - st"
   ]
  },
  {
   "cell_type": "code",
   "execution_count": null,
   "metadata": {
    "collapsed": true
   },
   "outputs": [],
   "source": []
  }
 ],
 "metadata": {
  "kernelspec": {
   "display_name": "MRO 3.4",
   "language": "R",
   "name": "mro34"
  },
  "language_info": {
   "codemirror_mode": "r",
   "file_extension": ".r",
   "mimetype": "text/x-r-source",
   "name": "R",
   "pygments_lexer": "r",
   "version": "3.4.0"
  }
 },
 "nbformat": 4,
 "nbformat_minor": 2
}
